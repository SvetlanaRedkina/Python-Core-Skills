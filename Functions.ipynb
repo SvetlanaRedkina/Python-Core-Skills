{
 "cells": [
  {
   "cell_type": "code",
   "execution_count": 1,
   "id": "cd2445fa",
   "metadata": {},
   "outputs": [],
   "source": [
    "# Function is a reusable block of code that perfroms a specific task.\n",
    "# Function example\n",
    "def division(x, y):\n",
    "    return x / y"
   ]
  },
  {
   "cell_type": "code",
   "execution_count": 2,
   "id": "e9b17be7",
   "metadata": {},
   "outputs": [
    {
     "data": {
      "text/plain": [
       "-5.0"
      ]
     },
     "execution_count": 2,
     "metadata": {},
     "output_type": "execute_result"
    }
   ],
   "source": [
    "# Call the function\n",
    "division(10, -2)"
   ]
  },
  {
   "cell_type": "code",
   "execution_count": 5,
   "id": "04d2b642",
   "metadata": {},
   "outputs": [
    {
     "data": {
      "text/plain": [
       "-29.182417582417585"
      ]
     },
     "execution_count": 5,
     "metadata": {},
     "output_type": "execute_result"
    }
   ],
   "source": [
    "# If we call the function with a new input, we get a new result\n",
    "# We can call a function for different data types\n",
    "division(-132.78, 4.55)"
   ]
  },
  {
   "cell_type": "code",
   "execution_count": 11,
   "id": "d88bd96e",
   "metadata": {},
   "outputs": [],
   "source": [
    "# Local variable is a variable declared inside a function.\n",
    "# Local variable references in the function it is declared\n",
    "# f is a local variable\n",
    "def addtwo(k):\n",
    "    f = 2\n",
    "    t = k + f\n",
    "    print(k, \"+ 2 = \", t) \n",
    "    return(t)"
   ]
  },
  {
   "cell_type": "code",
   "execution_count": 12,
   "id": "352730bc",
   "metadata": {},
   "outputs": [
    {
     "name": "stdout",
     "output_type": "stream",
     "text": [
      "7 + 2 =  9\n"
     ]
    },
    {
     "data": {
      "text/plain": [
       "9"
      ]
     },
     "execution_count": 12,
     "metadata": {},
     "output_type": "execute_result"
    }
   ],
   "source": [
    "addtwo(7)"
   ]
  },
  {
   "cell_type": "code",
   "execution_count": 20,
   "id": "b07d7048",
   "metadata": {},
   "outputs": [],
   "source": [
    "# A function can include a conditional statement\n",
    "def calculate(m, n):\n",
    "    p = m + n - 3 / m\n",
    "    if (p < 0):\n",
    "        print('The value is negative:')\n",
    "    else:\n",
    "        print('The value is either positive or zero:')\n",
    "    return(p)"
   ]
  },
  {
   "cell_type": "code",
   "execution_count": 21,
   "id": "d8853dec",
   "metadata": {},
   "outputs": [
    {
     "name": "stdout",
     "output_type": "stream",
     "text": [
      "The value is either positive or zero:\n"
     ]
    },
    {
     "data": {
      "text/plain": [
       "7.0"
      ]
     },
     "execution_count": 21,
     "metadata": {},
     "output_type": "execute_result"
    }
   ],
   "source": [
    "calculate(3, 5)"
   ]
  },
  {
   "cell_type": "code",
   "execution_count": 22,
   "id": "350720f9",
   "metadata": {},
   "outputs": [],
   "source": [
    "# We can use loop in a function\n",
    "def HarryPotter(movie):\n",
    "    for element in movie:\n",
    "        print(element)"
   ]
  },
  {
   "cell_type": "code",
   "execution_count": 23,
   "id": "c7ea4f15",
   "metadata": {},
   "outputs": [
    {
     "name": "stdout",
     "output_type": "stream",
     "text": [
      "Harry\n",
      "Potter\n",
      "and\n",
      "the\n",
      "Half-Blood\n",
      "Prince\n"
     ]
    }
   ],
   "source": [
    "HarryPotter(['Harry', 'Potter', 'and', 'the', 'Half-Blood', 'Prince'])"
   ]
  },
  {
   "cell_type": "code",
   "execution_count": 30,
   "id": "7c8d67a1",
   "metadata": {},
   "outputs": [],
   "source": [
    "# Default value for an argument\n",
    "def HPmovies(year = 2001): \n",
    "    if(year < 2001):\n",
    "        print(\"You are wrong. There had been no Harry Potter movies in\", year)\n",
    "        \n",
    "    else:\n",
    "        print(\"In\", year, \"Harry Potter movie was available to watch\")"
   ]
  },
  {
   "cell_type": "code",
   "execution_count": 31,
   "id": "b2ca4934",
   "metadata": {},
   "outputs": [
    {
     "name": "stdout",
     "output_type": "stream",
     "text": [
      "In 2001 Harry Potter movie was available to watch\n"
     ]
    }
   ],
   "source": [
    "HPmovies()"
   ]
  },
  {
   "cell_type": "code",
   "execution_count": 32,
   "id": "a97cf49e",
   "metadata": {},
   "outputs": [
    {
     "name": "stdout",
     "output_type": "stream",
     "text": [
      "You are wrong. There had been no Harry Potter movies in 1995\n"
     ]
    }
   ],
   "source": [
    "HPmovies(1995)"
   ]
  },
  {
   "cell_type": "code",
   "execution_count": 33,
   "id": "8e8dbd54",
   "metadata": {},
   "outputs": [],
   "source": [
    "# Create a global variable from within a function\n",
    "def movies(star):\n",
    "    global star_var\n",
    "    star_var = 'Rupert Grint'\n",
    "    print(star, 'is a movie star.')"
   ]
  },
  {
   "cell_type": "code",
   "execution_count": 35,
   "id": "a18cc7b9",
   "metadata": {},
   "outputs": [],
   "source": [
    "star = 'Emma Watson'"
   ]
  },
  {
   "cell_type": "code",
   "execution_count": 36,
   "id": "4f33eeb2",
   "metadata": {},
   "outputs": [
    {
     "name": "stdout",
     "output_type": "stream",
     "text": [
      "Emma Watson is a movie star.\n"
     ]
    }
   ],
   "source": [
    "movies(star) # Star is global variable created in a global scope"
   ]
  },
  {
   "cell_type": "code",
   "execution_count": 37,
   "id": "fadc7ef6",
   "metadata": {},
   "outputs": [
    {
     "name": "stdout",
     "output_type": "stream",
     "text": [
      "Rupert Grint is a movie star.\n"
     ]
    }
   ],
   "source": [
    "movies(star_var) # Star_var is a global variable created within the function"
   ]
  },
  {
   "cell_type": "code",
   "execution_count": 3,
   "id": "6a0d0587",
   "metadata": {},
   "outputs": [],
   "source": [
    "# We do not always know the number of arguments for a function.\n",
    "# In this case, we need to use *\n",
    "def WordsInMovie(*words):\n",
    "    print('Total words:', len(words))\n",
    "    for word in words:\n",
    "        print(word)"
   ]
  },
  {
   "cell_type": "code",
   "execution_count": 4,
   "id": "e3335fe9",
   "metadata": {},
   "outputs": [
    {
     "name": "stdout",
     "output_type": "stream",
     "text": [
      "Total words: 8\n",
      "Harry\n",
      "Potter\n",
      "and\n",
      "the\n",
      "Deathly\n",
      "Hallows\n",
      "Part\n",
      "One\n"
     ]
    }
   ],
   "source": [
    "WordsInMovie('Harry', 'Potter', 'and', 'the', 'Deathly', 'Hallows', 'Part', 'One')"
   ]
  },
  {
   "cell_type": "code",
   "execution_count": 73,
   "id": "4b0c9425",
   "metadata": {},
   "outputs": [],
   "source": [
    "# It is sometimes useful to pass dictionary as argument\n",
    "def allMovies(movies):\n",
    "    for movie in movies:\n",
    "        print(movie, ':', movies[movie])"
   ]
  },
  {
   "cell_type": "code",
   "execution_count": 74,
   "id": "e6f6ba57",
   "metadata": {},
   "outputs": [],
   "source": [
    "movies_dict = {'Fantastic Beasts and Where to Find Them': 2016, \n",
    "               'Fantastic Beasts: The Crimes of Grindelwald': 2018,\n",
    "               'Fantastic Beasts: The Secrets of Dumbledore': 2022\n",
    "              }"
   ]
  },
  {
   "cell_type": "code",
   "execution_count": 75,
   "id": "899efd87",
   "metadata": {},
   "outputs": [
    {
     "name": "stdout",
     "output_type": "stream",
     "text": [
      "Fantastic Beasts and Where to Find Them : 2016\n",
      "Fantastic Beasts: The Crimes of Grindelwald : 2018\n",
      "Fantastic Beasts: The Secrets of Dumbledore : 2022\n"
     ]
    }
   ],
   "source": [
    "allMovies(movies_dict)"
   ]
  },
  {
   "cell_type": "code",
   "execution_count": 93,
   "id": "f24124eb",
   "metadata": {},
   "outputs": [],
   "source": [
    "# We can pass methods and functions as arguments\n",
    "def firstMovie(movie):\n",
    "    movie.append('movie')\n",
    "    print(movie)"
   ]
  },
  {
   "cell_type": "code",
   "execution_count": 94,
   "id": "6463c898",
   "metadata": {},
   "outputs": [
    {
     "name": "stdout",
     "output_type": "stream",
     "text": [
      "['First', 'movie']\n"
     ]
    }
   ],
   "source": [
    "movie1 = ['First']\n",
    "firstMovie(movie1)"
   ]
  }
 ],
 "metadata": {
  "kernelspec": {
   "display_name": "Python 3",
   "language": "python",
   "name": "python3"
  },
  "language_info": {
   "codemirror_mode": {
    "name": "ipython",
    "version": 3
   },
   "file_extension": ".py",
   "mimetype": "text/x-python",
   "name": "python",
   "nbconvert_exporter": "python",
   "pygments_lexer": "ipython3",
   "version": "3.8.8"
  }
 },
 "nbformat": 4,
 "nbformat_minor": 5
}
