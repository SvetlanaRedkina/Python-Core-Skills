{
 "cells": [
  {
   "cell_type": "code",
   "execution_count": 1,
   "id": "87b0c62e",
   "metadata": {},
   "outputs": [],
   "source": [
    "# NumPy is a library we use to work with arrays.\n",
    "# We begin by importing NumPy\n",
    "import numpy as np"
   ]
  },
  {
   "cell_type": "code",
   "execution_count": 2,
   "id": "489ac593",
   "metadata": {},
   "outputs": [
    {
     "data": {
      "text/plain": [
       "array([100, 200, 300])"
      ]
     },
     "execution_count": 2,
     "metadata": {},
     "output_type": "execute_result"
    }
   ],
   "source": [
    "# Create a NumPy array\n",
    "hundred = np.array([100, 200, 300])\n",
    "hundred"
   ]
  },
  {
   "cell_type": "code",
   "execution_count": 3,
   "id": "c313e97c",
   "metadata": {},
   "outputs": [
    {
     "data": {
      "text/plain": [
       "100"
      ]
     },
     "execution_count": 3,
     "metadata": {},
     "output_type": "execute_result"
    }
   ],
   "source": [
    "# We can access an array's element\n",
    "hundred[0]"
   ]
  },
  {
   "cell_type": "code",
   "execution_count": 4,
   "id": "95394e99",
   "metadata": {},
   "outputs": [
    {
     "data": {
      "text/plain": [
       "300"
      ]
     },
     "execution_count": 4,
     "metadata": {},
     "output_type": "execute_result"
    }
   ],
   "source": [
    "hundred[-1]"
   ]
  },
  {
   "cell_type": "code",
   "execution_count": 5,
   "id": "77668f22",
   "metadata": {},
   "outputs": [
    {
     "data": {
      "text/plain": [
       "numpy.ndarray"
      ]
     },
     "execution_count": 5,
     "metadata": {},
     "output_type": "execute_result"
    }
   ],
   "source": [
    "# Type() is used to find out the type of the array.\n",
    "# .dtype tells us type and size of the data\n",
    "type(hundred) # NumPy N-dimensional array"
   ]
  },
  {
   "cell_type": "code",
   "execution_count": 6,
   "id": "2961519b",
   "metadata": {},
   "outputs": [
    {
     "data": {
      "text/plain": [
       "dtype('int32')"
      ]
     },
     "execution_count": 6,
     "metadata": {},
     "output_type": "execute_result"
    }
   ],
   "source": [
    "hundred.dtype # 32-bit integer"
   ]
  },
  {
   "cell_type": "code",
   "execution_count": 7,
   "id": "37557e86",
   "metadata": {},
   "outputs": [
    {
     "data": {
      "text/plain": [
       "array([400, 200, 300])"
      ]
     },
     "execution_count": 7,
     "metadata": {},
     "output_type": "execute_result"
    }
   ],
   "source": [
    "# As with lists, we can re-assign the values of the array\n",
    "hundred[0] = 400\n",
    "hundred"
   ]
  },
  {
   "cell_type": "code",
   "execution_count": 8,
   "id": "d5f41b6c",
   "metadata": {},
   "outputs": [
    {
     "data": {
      "text/plain": [
       "array([400, 200])"
      ]
     },
     "execution_count": 8,
     "metadata": {},
     "output_type": "execute_result"
    }
   ],
   "source": [
    "# Array slicing is similar to slicing in lists\n",
    "hundred[0:2]"
   ]
  },
  {
   "cell_type": "code",
   "execution_count": 9,
   "id": "bdb6006b",
   "metadata": {},
   "outputs": [
    {
     "data": {
      "text/plain": [
       "array([1000, 2000, 3000])"
      ]
     },
     "execution_count": 9,
     "metadata": {},
     "output_type": "execute_result"
    }
   ],
   "source": [
    "# Let's create an array 'thousand' to look at some basic array attributes\n",
    "thousand = np.array([1000, 2000, 3000])\n",
    "thousand"
   ]
  },
  {
   "cell_type": "code",
   "execution_count": 10,
   "id": "e7085d60",
   "metadata": {},
   "outputs": [
    {
     "data": {
      "text/plain": [
       "3"
      ]
     },
     "execution_count": 10,
     "metadata": {},
     "output_type": "execute_result"
    }
   ],
   "source": [
    "# We can get the number of elements in the array\n",
    "thousand.size"
   ]
  },
  {
   "cell_type": "code",
   "execution_count": 11,
   "id": "24747081",
   "metadata": {},
   "outputs": [
    {
     "data": {
      "text/plain": [
       "1"
      ]
     },
     "execution_count": 11,
     "metadata": {},
     "output_type": "execute_result"
    }
   ],
   "source": [
    "# Use .ndim to get the number of array dimensions\n",
    "thousand.ndim"
   ]
  },
  {
   "cell_type": "code",
   "execution_count": 12,
   "id": "387b13a4",
   "metadata": {},
   "outputs": [
    {
     "data": {
      "text/plain": [
       "(3,)"
      ]
     },
     "execution_count": 12,
     "metadata": {},
     "output_type": "execute_result"
    }
   ],
   "source": [
    "# Size per dimension (3 in our case, since 'thousand' is a one-dimensional array)\n",
    "thousand.shape"
   ]
  },
  {
   "cell_type": "code",
   "execution_count": 13,
   "id": "9a470ea4",
   "metadata": {},
   "outputs": [
    {
     "data": {
      "text/plain": [
       "2000.0"
      ]
     },
     "execution_count": 13,
     "metadata": {},
     "output_type": "execute_result"
    }
   ],
   "source": [
    "# Statistical methods.\n",
    "# We can get mean, standard deviation, min, and max values\n",
    "st_mean = thousand.mean()\n",
    "st_mean"
   ]
  },
  {
   "cell_type": "code",
   "execution_count": 14,
   "id": "6b596362",
   "metadata": {},
   "outputs": [
    {
     "data": {
      "text/plain": [
       "816.496580927726"
      ]
     },
     "execution_count": 14,
     "metadata": {},
     "output_type": "execute_result"
    }
   ],
   "source": [
    "st_dev = thousand.std()\n",
    "st_dev"
   ]
  },
  {
   "cell_type": "code",
   "execution_count": 15,
   "id": "3052b69d",
   "metadata": {},
   "outputs": [
    {
     "data": {
      "text/plain": [
       "3000"
      ]
     },
     "execution_count": 15,
     "metadata": {},
     "output_type": "execute_result"
    }
   ],
   "source": [
    "st_max = thousand.max()\n",
    "st_max"
   ]
  },
  {
   "cell_type": "code",
   "execution_count": 16,
   "id": "3ddae696",
   "metadata": {},
   "outputs": [
    {
     "data": {
      "text/plain": [
       "1000"
      ]
     },
     "execution_count": 16,
     "metadata": {},
     "output_type": "execute_result"
    }
   ],
   "source": [
    "st_min = thousand.min()\n",
    "st_min"
   ]
  },
  {
   "cell_type": "code",
   "execution_count": 17,
   "id": "073492bd",
   "metadata": {},
   "outputs": [],
   "source": [
    "# We can perform arithmetic opeartions on arrays\n",
    "x = np.array([100, 200, 300])\n",
    "y = np.array([50, 60, 70])"
   ]
  },
  {
   "cell_type": "code",
   "execution_count": 18,
   "id": "a8a81559",
   "metadata": {},
   "outputs": [
    {
     "data": {
      "text/plain": [
       "array([150, 260, 370])"
      ]
     },
     "execution_count": 18,
     "metadata": {},
     "output_type": "execute_result"
    }
   ],
   "source": [
    "add = x + y\n",
    "add"
   ]
  },
  {
   "cell_type": "code",
   "execution_count": 19,
   "id": "0a48bb75",
   "metadata": {},
   "outputs": [
    {
     "data": {
      "text/plain": [
       "array([200, 400, 600])"
      ]
     },
     "execution_count": 19,
     "metadata": {},
     "output_type": "execute_result"
    }
   ],
   "source": [
    "mult = x * 2\n",
    "mult"
   ]
  },
  {
   "cell_type": "code",
   "execution_count": 20,
   "id": "09f2327d",
   "metadata": {},
   "outputs": [
    {
     "data": {
      "text/plain": [
       "array([ 5000, 12000, 21000])"
      ]
     },
     "execution_count": 20,
     "metadata": {},
     "output_type": "execute_result"
    }
   ],
   "source": [
    "product = x * y\n",
    "product"
   ]
  },
  {
   "cell_type": "code",
   "execution_count": 21,
   "id": "9d574465",
   "metadata": {},
   "outputs": [
    {
     "data": {
      "text/plain": [
       "38000"
      ]
     },
     "execution_count": 21,
     "metadata": {},
     "output_type": "execute_result"
    }
   ],
   "source": [
    "# We can calculate dot product: 100*50 + 200*60 + 300*70 = 38000\n",
    "np.dot(x, y)"
   ]
  },
  {
   "cell_type": "code",
   "execution_count": 22,
   "id": "eb2d2318",
   "metadata": {},
   "outputs": [
    {
     "data": {
      "text/plain": [
       "array([-2, -3, -4])"
      ]
     },
     "execution_count": 22,
     "metadata": {},
     "output_type": "execute_result"
    }
   ],
   "source": [
    "# We can perform some operations on each element in the array\n",
    "z = np.array([-5, -6, -7])\n",
    "z + 3"
   ]
  },
  {
   "cell_type": "code",
   "execution_count": 23,
   "id": "c5b72b19",
   "metadata": {},
   "outputs": [
    {
     "data": {
      "text/plain": [
       "3.141592653589793"
      ]
     },
     "execution_count": 23,
     "metadata": {},
     "output_type": "execute_result"
    }
   ],
   "source": [
    "# To access the number pi\n",
    "np.pi"
   ]
  },
  {
   "cell_type": "code",
   "execution_count": 24,
   "id": "17ad590a",
   "metadata": {},
   "outputs": [
    {
     "data": {
      "text/plain": [
       "array([0.        , 1.57079633, 3.14159265])"
      ]
     },
     "execution_count": 24,
     "metadata": {},
     "output_type": "execute_result"
    }
   ],
   "source": [
    "# pi can be used in arrays\n",
    "array_pi = np.array([0, np.pi/2, np.pi])\n",
    "array_pi"
   ]
  },
  {
   "cell_type": "code",
   "execution_count": 25,
   "id": "48c3f511",
   "metadata": {},
   "outputs": [
    {
     "data": {
      "text/plain": [
       "array([ 1.000000e+00,  6.123234e-17, -1.000000e+00])"
      ]
     },
     "execution_count": 25,
     "metadata": {},
     "output_type": "execute_result"
    }
   ],
   "source": [
    "# Calculate cosine at 0, 90, and 180 degrees\n",
    "array_cos = np.cos(array_pi)\n",
    "array_cos"
   ]
  },
  {
   "cell_type": "code",
   "execution_count": 26,
   "id": "64467c26",
   "metadata": {},
   "outputs": [
    {
     "data": {
      "text/plain": [
       "array([ 0.        ,  5.55555556, 11.11111111, 16.66666667, 22.22222222,\n",
       "       27.77777778, 33.33333333, 38.88888889, 44.44444444, 50.        ])"
      ]
     },
     "execution_count": 26,
     "metadata": {},
     "output_type": "execute_result"
    }
   ],
   "source": [
    "# numpy.linspace returns evenly spaced numbers over a specified interval.\n",
    "# Let's find the numbers for the interval from 0 to 50 returning 10 evenly spaced samples\n",
    "np.linspace(0, 50, num = 10)"
   ]
  },
  {
   "cell_type": "code",
   "execution_count": 27,
   "id": "eee464a4",
   "metadata": {},
   "outputs": [
    {
     "data": {
      "text/plain": [
       "array([0.        , 0.12822827, 0.25645654, 0.38468481, 0.51291309,\n",
       "       0.64114136, 0.76936963, 0.8975979 , 1.02582617, 1.15405444,\n",
       "       1.28228272, 1.41051099, 1.53873926, 1.66696753, 1.7951958 ,\n",
       "       1.92342407, 2.05165235, 2.17988062, 2.30810889, 2.43633716,\n",
       "       2.56456543, 2.6927937 , 2.82102197, 2.94925025, 3.07747852,\n",
       "       3.20570679, 3.33393506, 3.46216333, 3.5903916 , 3.71861988,\n",
       "       3.84684815, 3.97507642, 4.10330469, 4.23153296, 4.35976123,\n",
       "       4.48798951, 4.61621778, 4.74444605, 4.87267432, 5.00090259,\n",
       "       5.12913086, 5.25735913, 5.38558741, 5.51381568, 5.64204395,\n",
       "       5.77027222, 5.89850049, 6.02672876, 6.15495704, 6.28318531])"
      ]
     },
     "execution_count": 27,
     "metadata": {},
     "output_type": "execute_result"
    }
   ],
   "source": [
    "# We can use linspace() to plot the cosine function.\n",
    "# Firts, we obtain x values\n",
    "cosine_x = np.linspace(0, 2*np.pi, num = 50)\n",
    "cosine_x"
   ]
  },
  {
   "cell_type": "code",
   "execution_count": 28,
   "id": "47310c82",
   "metadata": {},
   "outputs": [
    {
     "data": {
      "text/plain": [
       "array([ 1.        ,  0.99179001,  0.96729486,  0.92691676,  0.8713187 ,\n",
       "        0.80141362,  0.71834935,  0.6234898 ,  0.51839257,  0.40478334,\n",
       "        0.28452759,  0.1595999 ,  0.03205158, -0.09602303, -0.22252093,\n",
       "       -0.34536505, -0.46253829, -0.57211666, -0.67230089, -0.76144596,\n",
       "       -0.8380881 , -0.90096887, -0.94905575, -0.98155916, -0.99794539,\n",
       "       -0.99794539, -0.98155916, -0.94905575, -0.90096887, -0.8380881 ,\n",
       "       -0.76144596, -0.67230089, -0.57211666, -0.46253829, -0.34536505,\n",
       "       -0.22252093, -0.09602303,  0.03205158,  0.1595999 ,  0.28452759,\n",
       "        0.40478334,  0.51839257,  0.6234898 ,  0.71834935,  0.80141362,\n",
       "        0.8713187 ,  0.92691676,  0.96729486,  0.99179001,  1.        ])"
      ]
     },
     "execution_count": 28,
     "metadata": {},
     "output_type": "execute_result"
    }
   ],
   "source": [
    "# Then we find y values corresponding to the x values for the cosine function\n",
    "cosine_y = np.cos(cosine_x)\n",
    "cosine_y"
   ]
  },
  {
   "cell_type": "code",
   "execution_count": 29,
   "id": "d68c8244",
   "metadata": {},
   "outputs": [],
   "source": [
    "import time \n",
    "import sys\n",
    "import matplotlib.pyplot as plt\n",
    "%matplotlib inline"
   ]
  },
  {
   "cell_type": "code",
   "execution_count": 30,
   "id": "a99b8efe",
   "metadata": {},
   "outputs": [
    {
     "data": {
      "text/plain": [
       "[<matplotlib.lines.Line2D at 0x2b7bcb0afa0>]"
      ]
     },
     "execution_count": 30,
     "metadata": {},
     "output_type": "execute_result"
    },
    {
     "data": {
      "image/png": "[encoded data removed]",
      "text/plain": [
       "<Figure size 432x288 with 1 Axes>"
      ]
     },
     "metadata": {
      "needs_background": "light"
     },
     "output_type": "display_data"
    }
   ],
   "source": [
    "# Knowing x and y values, we can plot the cosine function using Matplotlib\n",
    "plt.plot(cosine_x, cosine_y)"
   ]
  },
  {
   "cell_type": "code",
   "execution_count": 31,
   "id": "58b26dc2",
   "metadata": {},
   "outputs": [],
   "source": [
    "# Nested lists can be used to initialize two- or higher-dimensional arrays\n",
    "odd = [[1, 3, 5], [7, 9, 11], [13, 15, 17]]"
   ]
  },
  {
   "cell_type": "code",
   "execution_count": 32,
   "id": "9a9ced09",
   "metadata": {},
   "outputs": [
    {
     "data": {
      "text/plain": [
       "array([[ 1,  3,  5],\n",
       "       [ 7,  9, 11],\n",
       "       [13, 15, 17]])"
      ]
     },
     "execution_count": 32,
     "metadata": {},
     "output_type": "execute_result"
    }
   ],
   "source": [
    "# odd_array is a 2-D array.\n",
    "# 2-D array is an array within an array\n",
    "odd_array = np.array(odd)\n",
    "odd_array"
   ]
  },
  {
   "cell_type": "code",
   "execution_count": 33,
   "id": "ada2cafc",
   "metadata": {},
   "outputs": [
    {
     "data": {
      "text/plain": [
       "2"
      ]
     },
     "execution_count": 33,
     "metadata": {},
     "output_type": "execute_result"
    }
   ],
   "source": [
    "# .ndim attribute returns 2 since there is one round of arrays within an array\n",
    "odd_array.ndim"
   ]
  },
  {
   "cell_type": "code",
   "execution_count": 34,
   "id": "8725c239",
   "metadata": {},
   "outputs": [],
   "source": [
    "# In order to better illustrate .ndim attribute, consider even_array\n",
    "even = [[[2, 4, 6], [8, 10, 12]]]\n",
    "even_array = np.array(even)"
   ]
  },
  {
   "cell_type": "code",
   "execution_count": 35,
   "id": "695f0962",
   "metadata": {},
   "outputs": [
    {
     "data": {
      "text/plain": [
       "3"
      ]
     },
     "execution_count": 35,
     "metadata": {},
     "output_type": "execute_result"
    }
   ],
   "source": [
    "# There is an array within an array within an array ([[[]]]).\n",
    "# Therefore, even_array is a 3-D array.\n",
    "# .ndim returns 3 which is the number of the array's dimensions\n",
    "even_array.ndim"
   ]
  },
  {
   "cell_type": "code",
   "execution_count": 36,
   "id": "f84c2367",
   "metadata": {},
   "outputs": [
    {
     "data": {
      "text/plain": [
       "(3, 3)"
      ]
     },
     "execution_count": 36,
     "metadata": {},
     "output_type": "execute_result"
    }
   ],
   "source": [
    "# .shape and .size attributes\n",
    "# In both cases, .shape returns the number of rows and columns (3, 3 for odd, and 2, 3 for even) but even_array.shape also returns 1 to let us know about an additional layer within the array\n",
    "odd_array.shape"
   ]
  },
  {
   "cell_type": "code",
   "execution_count": 37,
   "id": "1ccceab0",
   "metadata": {},
   "outputs": [
    {
     "data": {
      "text/plain": [
       "(1, 2, 3)"
      ]
     },
     "execution_count": 37,
     "metadata": {},
     "output_type": "execute_result"
    }
   ],
   "source": [
    "even_array.shape"
   ]
  },
  {
   "cell_type": "code",
   "execution_count": 38,
   "id": "769dae0b",
   "metadata": {},
   "outputs": [
    {
     "data": {
      "text/plain": [
       "9"
      ]
     },
     "execution_count": 38,
     "metadata": {},
     "output_type": "execute_result"
    }
   ],
   "source": [
    "# There are 9 elements in the array\n",
    "odd_array.size"
   ]
  },
  {
   "cell_type": "code",
   "execution_count": 39,
   "id": "75d54568",
   "metadata": {},
   "outputs": [
    {
     "data": {
      "text/plain": [
       "6"
      ]
     },
     "execution_count": 39,
     "metadata": {},
     "output_type": "execute_result"
    }
   ],
   "source": [
    "# There are 6 elements in the array\n",
    "even_array.size"
   ]
  },
  {
   "cell_type": "code",
   "execution_count": 40,
   "id": "f1afbcb0",
   "metadata": {},
   "outputs": [
    {
     "data": {
      "text/plain": [
       "3"
      ]
     },
     "execution_count": 40,
     "metadata": {},
     "output_type": "execute_result"
    }
   ],
   "source": [
    "# When accessing the elements, we first specify the row and then the column.\n",
    "# Let's access 3 which is on the first row and second column 1 in odd_array\n",
    "odd_array[0][1]"
   ]
  },
  {
   "cell_type": "code",
   "execution_count": 41,
   "id": "97d72740",
   "metadata": {},
   "outputs": [
    {
     "data": {
      "text/plain": [
       "array([ 5, 11])"
      ]
     },
     "execution_count": 41,
     "metadata": {},
     "output_type": "execute_result"
    }
   ],
   "source": [
    "# Access the elements on the first and second row and last column\n",
    "odd_array[0:2, 2]"
   ]
  },
  {
   "cell_type": "code",
   "execution_count": 42,
   "id": "24ca7c28",
   "metadata": {},
   "outputs": [],
   "source": [
    "# We can perform arithmetic operations on 2-D array.\n",
    "# For example, matrix addition\n",
    "a = np.array([[3, 5], [7, 9]])\n",
    "b = np.array([[2, 4], [6, 8]])"
   ]
  },
  {
   "cell_type": "code",
   "execution_count": 43,
   "id": "ea5ebb2e",
   "metadata": {},
   "outputs": [
    {
     "data": {
      "text/plain": [
       "array([[ 5,  9],\n",
       "       [13, 17]])"
      ]
     },
     "execution_count": 43,
     "metadata": {},
     "output_type": "execute_result"
    }
   ],
   "source": [
    "c = a + b\n",
    "c"
   ]
  },
  {
   "cell_type": "code",
   "execution_count": 44,
   "id": "46fe2a01",
   "metadata": {},
   "outputs": [
    {
     "data": {
      "text/plain": [
       "array([[-3, -5],\n",
       "       [-7, -9]])"
      ]
     },
     "execution_count": 44,
     "metadata": {},
     "output_type": "execute_result"
    }
   ],
   "source": [
    "# There are multiple options to perform multiplication.\n",
    "# Multiplying by a scaler\n",
    "d = -1 * a\n",
    "d"
   ]
  },
  {
   "cell_type": "code",
   "execution_count": 45,
   "id": "d5eb2e4d",
   "metadata": {},
   "outputs": [
    {
     "data": {
      "text/plain": [
       "array([[ 6, 20],\n",
       "       [42, 72]])"
      ]
     },
     "execution_count": 45,
     "metadata": {},
     "output_type": "execute_result"
    }
   ],
   "source": [
    "# Hadamard product:\n",
    "# 3*2=6   5*4=20\n",
    "# 7*6=42  9*8=72\n",
    "e = a * b\n",
    "e"
   ]
  },
  {
   "cell_type": "code",
   "execution_count": 46,
   "id": "9be21fde",
   "metadata": {},
   "outputs": [
    {
     "data": {
      "text/plain": [
       "array([[ 36,  52],\n",
       "       [ 68, 100]])"
      ]
     },
     "execution_count": 46,
     "metadata": {},
     "output_type": "execute_result"
    }
   ],
   "source": [
    "# Dot product calculations (row by column):\n",
    "# 3*2+5*6 = 36  3*4+5*8 = 52\n",
    "# 7*2+9*6 = 68  7*4+9*8 = 100\n",
    "f = np.dot(a, b)\n",
    "f"
   ]
  },
  {
   "cell_type": "code",
   "execution_count": 47,
   "id": "725fe0fa",
   "metadata": {},
   "outputs": [
    {
     "data": {
      "text/plain": [
       "array([[ 36,  52],\n",
       "       [ 68, 100]])"
      ]
     },
     "execution_count": 47,
     "metadata": {},
     "output_type": "execute_result"
    }
   ],
   "source": [
    "# @ is available in Python 3.5+ and is preferred for the multiplcation of 3-D arrays and higher\n",
    "g = a @ b\n",
    "g"
   ]
  }
 ],
 "metadata": {
  "kernelspec": {
   "display_name": "Python 3",
   "language": "python",
   "name": "python3"
  },
  "language_info": {
   "codemirror_mode": {
    "name": "ipython",
    "version": 3
   },
   "file_extension": ".py",
   "mimetype": "text/x-python",
   "name": "python",
   "nbconvert_exporter": "python",
   "pygments_lexer": "ipython3",
   "version": "3.8.8"
  }
 },
 "nbformat": 4,
 "nbformat_minor": 5
}
