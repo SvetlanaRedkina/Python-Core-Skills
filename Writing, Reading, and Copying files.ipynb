{
 "cells": [
  {
   "cell_type": "code",
   "execution_count": 7,
   "id": "66d5177d",
   "metadata": {},
   "outputs": [],
   "source": [
    "# We can write and save files in Python (the mode argument is set to 'w' for 'write')\n",
    "# File_1.txt is saved in the folder 'files'\n",
    "# We write File_1 with 4 lines: '12345', '54321', '678910', '109876'\n",
    "file_1 = r'C:\\Users\\sveta\\Desktop\\Python for GitHub\\files\\File_1.txt'\n",
    "with open(file_1, 'w') as writefile:\n",
    "    writefile.write('12345\\n')\n",
    "    writefile.write('54321\\n')\n",
    "    writefile.write('678910\\n')\n",
    "    writefile.write('109876\\n')"
   ]
  },
  {
   "cell_type": "code",
   "execution_count": 8,
   "id": "35d0f1e0",
   "metadata": {},
   "outputs": [
    {
     "name": "stdout",
     "output_type": "stream",
     "text": [
      "12345\n",
      "54321\n",
      "678910\n",
      "109876\n",
      "\n"
     ]
    }
   ],
   "source": [
    "# We do not have to open the file to see if the data has been saved\n",
    "# Instead, we can read the file ('r' for 'read')\n",
    "with open(file_1, 'r') as readfile:\n",
    "    print(readfile.read())"
   ]
  },
  {
   "cell_type": "code",
   "execution_count": 11,
   "id": "08ec1920",
   "metadata": {},
   "outputs": [
    {
     "data": {
      "text/plain": [
       "['The First Line\\n', 'The Second Line\\n', 'The Third Line\\n']"
      ]
     },
     "execution_count": 11,
     "metadata": {},
     "output_type": "execute_result"
    }
   ],
   "source": [
    "# We can write a list to a file\n",
    "list2 = ['The First Line\\n', 'The Second Line\\n', 'The Third Line\\n']\n",
    "list2"
   ]
  },
  {
   "cell_type": "code",
   "execution_count": 13,
   "id": "0c89319a",
   "metadata": {},
   "outputs": [
    {
     "name": "stdout",
     "output_type": "stream",
     "text": [
      "The First Line\n",
      "\n",
      "The Second Line\n",
      "\n",
      "The Third Line\n",
      "\n"
     ]
    }
   ],
   "source": [
    "file_2 = r'C:\\Users\\sveta\\Desktop\\Python for GitHub\\files\\File_2.txt'\n",
    "with open(file_2, 'w') as writefile:\n",
    "    for eachList in list2:\n",
    "        print(eachList)\n",
    "        writefile.write(eachList) # now there are two files (File_1.txt and File_2.txt) in the directory"
   ]
  },
  {
   "cell_type": "code",
   "execution_count": 14,
   "id": "7805d904",
   "metadata": {},
   "outputs": [
    {
     "name": "stdout",
     "output_type": "stream",
     "text": [
      "The First Line\n",
      "The Second Line\n",
      "The Third Line\n",
      "\n"
     ]
    }
   ],
   "source": [
    "# We verify if the file is written\n",
    "with open(file_2, 'r') as readfile2:\n",
    "    print(readfile2.read())"
   ]
  },
  {
   "cell_type": "code",
   "execution_count": 15,
   "id": "34344d48",
   "metadata": {},
   "outputs": [],
   "source": [
    "# If I wish to add lines to File_2.txt and choose the mode 'w', it will overwrite all existing data.\n",
    "# In order to preserve the data, I shall use the mode append ('a')\n",
    "with open(file_2, 'a') as testfile:\n",
    "    testfile.write('The Fourth Line\\n')"
   ]
  },
  {
   "cell_type": "code",
   "execution_count": 16,
   "id": "87e0e38e",
   "metadata": {},
   "outputs": [
    {
     "name": "stdout",
     "output_type": "stream",
     "text": [
      "The First Line\n",
      "The Second Line\n",
      "The Third Line\n",
      "The Fourth Line\n",
      "\n"
     ]
    }
   ],
   "source": [
    "# Verify\n",
    "with open(file_2, 'r') as testfile:\n",
    "    print(testfile.read())"
   ]
  },
  {
   "cell_type": "code",
   "execution_count": 22,
   "id": "7c826f2f",
   "metadata": {},
   "outputs": [
    {
     "name": "stdout",
     "output_type": "stream",
     "text": [
      "File Handle's initial position: 66\n",
      "There is nothing to read\n",
      "\n",
      "File Handle's new position: 0\n",
      "The First Line\n",
      "The Second Line\n",
      "The Third Line\n",
      "The Fourth Line\n",
      "\n",
      "File Handle's position after reading the file: 66\n"
     ]
    }
   ],
   "source": [
    "# There are other modes in Python.\n",
    "# For instance, the mode 'a+' appends and reads the file.\n",
    "# When choosing a mode, we have to be careful with File Handle.\n",
    "# File Handle is similar to a cursor and tells us where the data has to be read or witten in the file.\n",
    "# The example below helps to illistrate the mode 'a+' and the positioning of File Handle\n",
    "with open(file_2, 'a+') as testfile:\n",
    "    # return the position after appending and reading the file in bytes\n",
    "    print(\"File Handle's initial position: {}\".format(testfile.tell())) \n",
    "    \n",
    "    data = testfile.read()\n",
    "    # we are at the end of the file since the file has been read\n",
    "    if (not data):\n",
    "            print('There is nothing to read') \n",
    "    else: \n",
    "            print(testfile.read())\n",
    "            \n",
    "    testfile.seek(0,0) # we move the file pointer and read the file from the reference point set to 0\n",
    "    \n",
    "    # now we are at the beginning of our file again and we can read the data\n",
    "    print(\"\\nFile Handle's new position: {}\".format(testfile.tell()))\n",
    "    data = testfile.read()\n",
    "    if (not data): \n",
    "            print('There is nothing to read') \n",
    "    else: \n",
    "            print(data)\n",
    "    # the file pointer is at the end of the file\n",
    "    print(\"File Handle's position after reading the file: {}\".format(testfile.tell()) )"
   ]
  },
  {
   "cell_type": "code",
   "execution_count": 29,
   "id": "e667824b",
   "metadata": {},
   "outputs": [],
   "source": [
    "# We can copy a file\n",
    "with open(r'C:\\Users\\sveta\\Desktop\\Python for GitHub\\files\\File_2.txt', 'r') as readfile:\n",
    "    with open(r'C:\\Users\\sveta\\Desktop\\Python for GitHub\\files\\File_3.txt', 'w') as writefile:\n",
    "        for line in readfile:\n",
    "            writefile.write(line)"
   ]
  },
  {
   "cell_type": "code",
   "execution_count": 30,
   "id": "6f9a1658",
   "metadata": {},
   "outputs": [
    {
     "name": "stdout",
     "output_type": "stream",
     "text": [
      "The First Line\n",
      "The Second Line\n",
      "The Third Line\n",
      "The Fourth Line\n",
      "\n"
     ]
    }
   ],
   "source": [
    "# Verify\n",
    "with open(r'C:\\Users\\sveta\\Desktop\\Python for GitHub\\files\\File_3.txt', 'r') as testfile:\n",
    "    print(testfile.read())\n",
    "# If I go to the folder 'files', I will see 3 files there: File_1.txt, File_2.txt, and File_3.txt"
   ]
  }
 ],
 "metadata": {
  "kernelspec": {
   "display_name": "Python 3",
   "language": "python",
   "name": "python3"
  },
  "language_info": {
   "codemirror_mode": {
    "name": "ipython",
    "version": 3
   },
   "file_extension": ".py",
   "mimetype": "text/x-python",
   "name": "python",
   "nbconvert_exporter": "python",
   "pygments_lexer": "ipython3",
   "version": "3.8.8"
  }
 },
 "nbformat": 4,
 "nbformat_minor": 5
}
