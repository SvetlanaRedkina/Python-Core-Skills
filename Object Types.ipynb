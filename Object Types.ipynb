{
 "cells": [
  {
   "cell_type": "code",
   "execution_count": 1,
   "id": "240b692b",
   "metadata": {},
   "outputs": [],
   "source": [
    "# Python is an object-oriented language. The most common object types: strings, integers, and floats."
   ]
  },
  {
   "cell_type": "code",
   "execution_count": 2,
   "id": "9b47de00",
   "metadata": {},
   "outputs": [
    {
     "data": {
      "text/plain": [
       "39"
      ]
     },
     "execution_count": 2,
     "metadata": {},
     "output_type": "execute_result"
    }
   ],
   "source": [
    "# Integer\n",
    "39"
   ]
  },
  {
   "cell_type": "code",
   "execution_count": 3,
   "id": "cebac07a",
   "metadata": {},
   "outputs": [
    {
     "data": {
      "text/plain": [
       "4.192"
      ]
     },
     "execution_count": 3,
     "metadata": {},
     "output_type": "execute_result"
    }
   ],
   "source": [
    "# Float\n",
    "4.192"
   ]
  },
  {
   "cell_type": "code",
   "execution_count": 4,
   "id": "579104ea",
   "metadata": {},
   "outputs": [
    {
     "data": {
      "text/plain": [
       "'Hello'"
      ]
     },
     "execution_count": 4,
     "metadata": {},
     "output_type": "execute_result"
    }
   ],
   "source": [
    "# String\n",
    "\"Hello\""
   ]
  },
  {
   "cell_type": "code",
   "execution_count": 5,
   "id": "ed4db866",
   "metadata": {},
   "outputs": [
    {
     "data": {
      "text/plain": [
       "str"
      ]
     },
     "execution_count": 5,
     "metadata": {},
     "output_type": "execute_result"
    }
   ],
   "source": [
    "# Tell the type of expression\n",
    "type(\"January\")"
   ]
  },
  {
   "cell_type": "code",
   "execution_count": 7,
   "id": "708b2625",
   "metadata": {},
   "outputs": [
    {
     "data": {
      "text/plain": [
       "8"
      ]
     },
     "execution_count": 7,
     "metadata": {},
     "output_type": "execute_result"
    }
   ],
   "source": [
    "# Cast 8.9 to float \n",
    "int(8.9) # loss of decimal information"
   ]
  },
  {
   "cell_type": "code",
   "execution_count": 8,
   "id": "08a72b6d",
   "metadata": {},
   "outputs": [
    {
     "data": {
      "text/plain": [
       "bool"
      ]
     },
     "execution_count": 8,
     "metadata": {},
     "output_type": "execute_result"
    }
   ],
   "source": [
    "# Boolean values: True and False\n",
    "type(True)"
   ]
  },
  {
   "cell_type": "code",
   "execution_count": 9,
   "id": "40a9bc6e",
   "metadata": {},
   "outputs": [
    {
     "data": {
      "text/plain": [
       "1"
      ]
     },
     "execution_count": 9,
     "metadata": {},
     "output_type": "execute_result"
    }
   ],
   "source": [
    "# True - 1, False - 0\n",
    "int(True)"
   ]
  },
  {
   "cell_type": "code",
   "execution_count": 15,
   "id": "83349041",
   "metadata": {},
   "outputs": [
    {
     "data": {
      "text/plain": [
       "21"
      ]
     },
     "execution_count": 15,
     "metadata": {},
     "output_type": "execute_result"
    }
   ],
   "source": [
    "# Basic ariphmetic operations\n",
    "(4 + 3) * (5 - 2)"
   ]
  },
  {
   "cell_type": "code",
   "execution_count": 14,
   "id": "b9ced029",
   "metadata": {},
   "outputs": [
    {
     "data": {
      "text/plain": [
       "3"
      ]
     },
     "execution_count": 14,
     "metadata": {},
     "output_type": "execute_result"
    }
   ],
   "source": [
    "# Round down the result\n",
    "23 // 7"
   ]
  },
  {
   "cell_type": "code",
   "execution_count": 16,
   "id": "9f1daf38",
   "metadata": {},
   "outputs": [
    {
     "name": "stdout",
     "output_type": "stream",
     "text": [
      "17.0\n"
     ]
    }
   ],
   "source": [
    "# Variables\n",
    "x = 34\n",
    "y = x / 2\n",
    "print(y)"
   ]
  },
  {
   "cell_type": "code",
   "execution_count": 19,
   "id": "dbf18680",
   "metadata": {},
   "outputs": [
    {
     "name": "stdout",
     "output_type": "stream",
     "text": [
      "a10@#b67=_c92#]&*d38^%e5$\n"
     ]
    }
   ],
   "source": [
    "# String can have different characters. We can also assign a string to a variable\n",
    "my_string = 'a10@#b67=_c92#]&*d38^%e5$'\n",
    "print(my_string)"
   ]
  },
  {
   "cell_type": "code",
   "execution_count": 20,
   "id": "1ca7782b",
   "metadata": {},
   "outputs": [
    {
     "data": {
      "text/plain": [
       "'@'"
      ]
     },
     "execution_count": 20,
     "metadata": {},
     "output_type": "execute_result"
    }
   ],
   "source": [
    "# Access index 3 which is the 4th element\n",
    "my_string[3]"
   ]
  },
  {
   "cell_type": "code",
   "execution_count": 21,
   "id": "ff710331",
   "metadata": {},
   "outputs": [
    {
     "data": {
      "text/plain": [
       "'67'"
      ]
     },
     "execution_count": 21,
     "metadata": {},
     "output_type": "execute_result"
    }
   ],
   "source": [
    "# Slicing\n",
    "my_string[6:8]"
   ]
  },
  {
   "cell_type": "code",
   "execution_count": 22,
   "id": "48a0e84f",
   "metadata": {},
   "outputs": [
    {
     "data": {
      "text/plain": [
       "'a@6'"
      ]
     },
     "execution_count": 22,
     "metadata": {},
     "output_type": "execute_result"
    }
   ],
   "source": [
    "# Access the third element in the index range from 0 to 8\n",
    "my_string[0:9:3]"
   ]
  },
  {
   "cell_type": "code",
   "execution_count": 28,
   "id": "3d8179a1",
   "metadata": {},
   "outputs": [
    {
     "data": {
      "text/plain": [
       "'There is something magical about Christmas'"
      ]
     },
     "execution_count": 28,
     "metadata": {},
     "output_type": "execute_result"
    }
   ],
   "source": [
    "# Concatenate strings\n",
    "holiday = 'Christmas'\n",
    "concatenated = 'There is something magical about ' + holiday\n",
    "concatenated"
   ]
  },
  {
   "cell_type": "code",
   "execution_count": 30,
   "id": "a513dd0a",
   "metadata": {},
   "outputs": [
    {
     "data": {
      "text/plain": [
       "'Pineapple is my favorite fruit'"
      ]
     },
     "execution_count": 30,
     "metadata": {},
     "output_type": "execute_result"
    }
   ],
   "source": [
    "# There are many string operation methods in Python. For example, replace()\n",
    "a = 'Apple is my favorite fruit'\n",
    "p = a.replace('Apple','Pineapple')\n",
    "p"
   ]
  },
  {
   "cell_type": "code",
   "execution_count": null,
   "id": "d920d876",
   "metadata": {},
   "outputs": [],
   "source": []
  }
 ],
 "metadata": {
  "kernelspec": {
   "display_name": "Python 3",
   "language": "python",
   "name": "python3"
  },
  "language_info": {
   "codemirror_mode": {
    "name": "ipython",
    "version": 3
   },
   "file_extension": ".py",
   "mimetype": "text/x-python",
   "name": "python",
   "nbconvert_exporter": "python",
   "pygments_lexer": "ipython3",
   "version": "3.8.8"
  }
 },
 "nbformat": 4,
 "nbformat_minor": 5
}
