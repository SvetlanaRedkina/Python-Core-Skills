{
 "cells": [
  {
   "cell_type": "code",
   "execution_count": 1,
   "id": "7a33b3c7",
   "metadata": {},
   "outputs": [
    {
     "data": {
      "text/plain": [
       "['Harry Potter and the Sorcerer’s Stone', 7.6, 2001]"
      ]
     },
     "execution_count": 1,
     "metadata": {},
     "output_type": "execute_result"
    }
   ],
   "source": [
    "# A list is a collection of different objects (integers, strings, and even other lists). \n",
    "# Create a list\n",
    "L_movies = ['Harry Potter and the Sorcerer’s Stone', 7.6, 2001]\n",
    "L_movies"
   ]
  },
  {
   "cell_type": "code",
   "execution_count": 5,
   "id": "07c608b9",
   "metadata": {},
   "outputs": [
    {
     "name": "stdout",
     "output_type": "stream",
     "text": [
      "I would like to access the same element:\n",
      " Positive indexing: Harry Potter and the Sorcerer’s Stone \n",
      " Negative indexing: Harry Potter and the Sorcerer’s Stone\n"
     ]
    }
   ],
   "source": [
    "# Indexing\n",
    "print('I would like to access the same element:\\n Positive indexing:', L_movies[0], '\\n Negative indexing:', L_movies[-3])"
   ]
  },
  {
   "cell_type": "code",
   "execution_count": 6,
   "id": "29771fee",
   "metadata": {},
   "outputs": [
    {
     "data": {
      "text/plain": [
       "['Harry Potter and the Sorcerer’s Stone', 7.6]"
      ]
     },
     "execution_count": 6,
     "metadata": {},
     "output_type": "execute_result"
    }
   ],
   "source": [
    "# Slicing\n",
    "L_movies[0:2]"
   ]
  },
  {
   "cell_type": "code",
   "execution_count": 11,
   "id": "31550278",
   "metadata": {},
   "outputs": [
    {
     "name": "stdout",
     "output_type": "stream",
     "text": [
      "['Harry Potter and the Sorcerer’s Stone', 7.6, 2001, 'Chris Columbus', 'PG']\n"
     ]
    }
   ],
   "source": [
    "# Append method vs extend method\n",
    "L_movies.extend(['Chris Columbus', 'PG']) # we add several elements to the list\n",
    "print(L_movies)"
   ]
  },
  {
   "cell_type": "code",
   "execution_count": 12,
   "id": "23ab0f63",
   "metadata": {},
   "outputs": [
    {
     "data": {
      "text/plain": [
       "['Harry Potter and the Sorcerer’s Stone',\n",
       " 7.6,\n",
       " 2001,\n",
       " 'Chris Columbus',\n",
       " 'PG',\n",
       " ['Daniel Radcliffe', 'Rupert Grint', 'Richard Harris']]"
      ]
     },
     "execution_count": 12,
     "metadata": {},
     "output_type": "execute_result"
    }
   ],
   "source": [
    "L_movies.append(['Daniel Radcliffe', 'Rupert Grint', 'Richard Harris']) # we add one element to the list\n",
    "L_movies"
   ]
  },
  {
   "cell_type": "code",
   "execution_count": 13,
   "id": "33e4f69e",
   "metadata": {},
   "outputs": [
    {
     "name": "stdout",
     "output_type": "stream",
     "text": [
      "The wrong year:  2003\n"
     ]
    }
   ],
   "source": [
    "# Changing and deleting the element based on the index\n",
    "L_movies[2] = 2003\n",
    "print('The wrong year: ', L_movies[2])"
   ]
  },
  {
   "cell_type": "code",
   "execution_count": 15,
   "id": "af2bdb11",
   "metadata": {},
   "outputs": [
    {
     "name": "stdout",
     "output_type": "stream",
     "text": [
      "The list without a release year:\n",
      " ['Harry Potter and the Sorcerer’s Stone', 7.6, 'PG', ['Daniel Radcliffe', 'Rupert Grint', 'Richard Harris']]\n"
     ]
    }
   ],
   "source": [
    "del(L_movies[2])\n",
    "print('The list without a release year:\\n', L_movies)"
   ]
  },
  {
   "cell_type": "code",
   "execution_count": 16,
   "id": "edb962fe",
   "metadata": {},
   "outputs": [
    {
     "data": {
      "text/plain": [
       "['Harry', 'Potter', 'and', 'the', 'Sorcerer’s', 'Stone']"
      ]
     },
     "execution_count": 16,
     "metadata": {},
     "output_type": "execute_result"
    }
   ],
   "source": [
    "# Split\n",
    "'Harry Potter and the Sorcerer’s Stone'.split()"
   ]
  },
  {
   "cell_type": "code",
   "execution_count": 22,
   "id": "b63015cf",
   "metadata": {},
   "outputs": [
    {
     "data": {
      "text/plain": [
       "['Harry Potter and the Chamber of Secrets', 7.4, 2002]"
      ]
     },
     "execution_count": 22,
     "metadata": {},
     "output_type": "execute_result"
    }
   ],
   "source": [
    "# Clone a list\n",
    "L_movies_2 = ['Harry Potter and the Chamber of Secrets', 7.4, 2002]\n",
    "L_movies_2"
   ]
  },
  {
   "cell_type": "code",
   "execution_count": 23,
   "id": "6473d2f8",
   "metadata": {},
   "outputs": [
    {
     "data": {
      "text/plain": [
       "['Harry Potter and the Chamber of Secrets', 7.4, 2002]"
      ]
     },
     "execution_count": 23,
     "metadata": {},
     "output_type": "execute_result"
    }
   ],
   "source": [
    "L_movies_two = L_movies_2[:]\n",
    "L_movies_two"
   ]
  },
  {
   "cell_type": "code",
   "execution_count": 24,
   "id": "ed0eb548",
   "metadata": {},
   "outputs": [
    {
     "name": "stdout",
     "output_type": "stream",
     "text": [
      "The original list has been changed:\n",
      " ['Harry Potter and the Chamber of Secrets', 7.4, 2002, 'Chris Columbus', 'PG']\n",
      "The clone has not been changed:\n",
      " ['Harry Potter and the Chamber of Secrets', 7.4, 2002]\n"
     ]
    }
   ],
   "source": [
    "# Now if we change the original list, the clone will stay the same\n",
    "L_movies_2.extend(['Chris Columbus', 'PG'])\n",
    "print('The original list has been changed:\\n', L_movies_2)\n",
    "print('The clone has not been changed:\\n', L_movies_two)"
   ]
  },
  {
   "cell_type": "code",
   "execution_count": 3,
   "id": "f0b0f244",
   "metadata": {},
   "outputs": [
    {
     "data": {
      "text/plain": [
       "('Harry Potter and the Prisoner of Azkaban', 7.9, 2004)"
      ]
     },
     "execution_count": 3,
     "metadata": {},
     "output_type": "execute_result"
    }
   ],
   "source": [
    "# A tuple is a collection of objects in Python. \n",
    "# Tuples are immutable unlike lists which are mutable.\n",
    "# Create a tuple\n",
    "T_movies = ('Harry Potter and the Prisoner of Azkaban', 7.9, 2004)\n",
    "T_movies"
   ]
  },
  {
   "cell_type": "code",
   "execution_count": 4,
   "id": "394b49c7",
   "metadata": {},
   "outputs": [
    {
     "data": {
      "text/plain": [
       "tuple"
      ]
     },
     "execution_count": 4,
     "metadata": {},
     "output_type": "execute_result"
    }
   ],
   "source": [
    "type(T_movies)"
   ]
  },
  {
   "cell_type": "code",
   "execution_count": 5,
   "id": "74d0915e",
   "metadata": {},
   "outputs": [
    {
     "data": {
      "text/plain": [
       "7.9"
      ]
     },
     "execution_count": 5,
     "metadata": {},
     "output_type": "execute_result"
    }
   ],
   "source": [
    "# Each element of a tuple can be accessed via an index. \n",
    "# Access the movie's rating\n",
    "T_movies[-2]"
   ]
  },
  {
   "cell_type": "code",
   "execution_count": 12,
   "id": "0ed69b97",
   "metadata": {},
   "outputs": [
    {
     "data": {
      "text/plain": [
       "('Harry Potter and the Prisoner of Azkaban',)"
      ]
     },
     "execution_count": 12,
     "metadata": {},
     "output_type": "execute_result"
    }
   ],
   "source": [
    "# Tuples' slicing is similar to slicing in lists. \n",
    "# Obtain the movie's title\n",
    "T_movies[0:1]"
   ]
  },
  {
   "cell_type": "code",
   "execution_count": 13,
   "id": "a05d259c",
   "metadata": {},
   "outputs": [
    {
     "data": {
      "text/plain": [
       "3"
      ]
     },
     "execution_count": 13,
     "metadata": {},
     "output_type": "execute_result"
    }
   ],
   "source": [
    "# The length command\n",
    "len(T_movies) # there are 3 elements in the tuple"
   ]
  },
  {
   "cell_type": "code",
   "execution_count": 14,
   "id": "257fc22d",
   "metadata": {},
   "outputs": [
    {
     "data": {
      "text/plain": [
       "[7.4, 7.5, 7.6, 7.6, 7.7, 7.7, 7.9, 8.1]"
      ]
     },
     "execution_count": 14,
     "metadata": {},
     "output_type": "execute_result"
    }
   ],
   "source": [
    "# We can sort values in a tuple\n",
    "Movies_ratings = (7.6, 7.4, 7.9, 7.7, 7.5, 7.6, 7.7, 8.1)\n",
    "Sorted = sorted(Movies_ratings)\n",
    "Sorted"
   ]
  },
  {
   "cell_type": "code",
   "execution_count": 20,
   "id": "5fef97fa",
   "metadata": {},
   "outputs": [
    {
     "name": "stdout",
     "output_type": "stream",
     "text": [
      "Stars:\n",
      " Daniel Radcliffe \n",
      " Emma Watson \n",
      " Rupert Grint\n"
     ]
    }
   ],
   "source": [
    "# Nesting\n",
    "T_nested = (0, 'Alfonso Cuaron', 1, 'J.K. Rowling', 2, (1, 'Daniel Radcliffe', 2, 'Emma Watson', 3, 'Rupert Grint'))\n",
    "print('Stars:\\n', T_nested[5][1],'\\n', T_nested[5][3],'\\n', T_nested[5][5])"
   ]
  },
  {
   "cell_type": "code",
   "execution_count": 25,
   "id": "62c86ddc",
   "metadata": {},
   "outputs": [
    {
     "data": {
      "text/plain": [
       "3"
      ]
     },
     "execution_count": 25,
     "metadata": {},
     "output_type": "execute_result"
    }
   ],
   "source": [
    "# Find the writer's index\n",
    "T_nested.index('J.K. Rowling')"
   ]
  },
  {
   "cell_type": "code",
   "execution_count": 2,
   "id": "52756d2a",
   "metadata": {},
   "outputs": [
    {
     "data": {
      "text/plain": [
       "{'key1': 2005,\n",
       " 'key2': 'Mike Newell',\n",
       " 'key3': 'PG-13',\n",
       " 'key4': 157,\n",
       " 'key5': '$895 921 036',\n",
       " (1, 8): 4}"
      ]
     },
     "execution_count": 2,
     "metadata": {},
     "output_type": "execute_result"
    }
   ],
   "source": [
    "# A dictionary consists of keys and values. \n",
    "# Keys are used to access values like indexes in lists. \n",
    "# Dictionaries are mutable\n",
    "D_movies = {\"key1\": 2005, \"key2\": 'Mike Newell', \"key3\": 'PG-13', (\"key4\"): 157, \"key5\": '$895 921 036', (1, 8): 4}\n",
    "D_movies"
   ]
  },
  {
   "cell_type": "code",
   "execution_count": 3,
   "id": "76d2922b",
   "metadata": {},
   "outputs": [
    {
     "data": {
      "text/plain": [
       "157"
      ]
     },
     "execution_count": 3,
     "metadata": {},
     "output_type": "execute_result"
    }
   ],
   "source": [
    "# Access the runtime by the key\n",
    "D_movies[\"key4\"]"
   ]
  },
  {
   "cell_type": "code",
   "execution_count": 4,
   "id": "88820b58",
   "metadata": {},
   "outputs": [
    {
     "data": {
      "text/plain": [
       "4"
      ]
     },
     "execution_count": 4,
     "metadata": {},
     "output_type": "execute_result"
    }
   ],
   "source": [
    "# Keys can be any immutable object\n",
    "D_movies[(1, 8)]"
   ]
  },
  {
   "cell_type": "code",
   "execution_count": 9,
   "id": "d961a5d2",
   "metadata": {},
   "outputs": [
    {
     "data": {
      "text/plain": [
       "{'Harry Potter and the Sorcerer’s Stone': '7.6',\n",
       " 'Harry Potter and the Chamber of Secrets': '7.4',\n",
       " 'Harry Potter and the Prisoner of Azkaban': '7.9',\n",
       " 'Harry Potter and the Goblet of Fire': '7.7',\n",
       " 'Harry Potter and the Order of the Phoenix': '7.5',\n",
       " 'Harry Potter and the Half-Blood Prince': '7.6',\n",
       " 'Harry Potter and the Deathly Hallows, Part 1': '7.7'}"
      ]
     },
     "execution_count": 9,
     "metadata": {},
     "output_type": "execute_result"
    }
   ],
   "source": [
    "# Create a sample dictionary\n",
    "rating_dict = {\"Harry Potter and the Sorcerer’s Stone\": \"7.6\",\n",
    "              \"Harry Potter and the Chamber of Secrets\": \"7.4\",\n",
    "              \"Harry Potter and the Prisoner of Azkaban\": \"7.9\",\n",
    "              \"Harry Potter and the Goblet of Fire\": \"7.7\",\n",
    "              \"Harry Potter and the Order of the Phoenix\": \"7.5\",\n",
    "              \"Harry Potter and the Half-Blood Prince\": \"7.6\",\n",
    "              \"Harry Potter and the Deathly Hallows, Part 1\": \"7.7\"}\n",
    "rating_dict"
   ]
  },
  {
   "cell_type": "code",
   "execution_count": 8,
   "id": "2c4b8214",
   "metadata": {},
   "outputs": [
    {
     "data": {
      "text/plain": [
       "dict_keys(['Harry Potter and the Sorcerer’s Stone', 'Harry Potter and the Chamber of Secrets', 'Harry Potter and the Prisoner of Azkaban', 'Harry Potter and the Goblet of Fire', 'Harry Potter and the Order of the Phoenix', 'Harry Potter and the Half-Blood Prince', 'Harry Potter and the Deathly Hallows, Part 1', 'Harry Potter and the Deathly Hallows, Part 2'])"
      ]
     },
     "execution_count": 8,
     "metadata": {},
     "output_type": "execute_result"
    }
   ],
   "source": [
    "# Get all the keys\n",
    "rating_dict.keys()"
   ]
  },
  {
   "cell_type": "code",
   "execution_count": 10,
   "id": "f008e035",
   "metadata": {},
   "outputs": [
    {
     "data": {
      "text/plain": [
       "{'Harry Potter and the Sorcerer’s Stone': '7.6',\n",
       " 'Harry Potter and the Chamber of Secrets': '7.4',\n",
       " 'Harry Potter and the Prisoner of Azkaban': '7.9',\n",
       " 'Harry Potter and the Goblet of Fire': '7.7',\n",
       " 'Harry Potter and the Order of the Phoenix': '7.5',\n",
       " 'Harry Potter and the Half-Blood Prince': '7.6',\n",
       " 'Harry Potter and the Deathly Hallows, Part 1': '7.7',\n",
       " 'Harry Potter and the Deathly Hallows, Part 2': '8.1'}"
      ]
     },
     "execution_count": 10,
     "metadata": {},
     "output_type": "execute_result"
    }
   ],
   "source": [
    "# Append key and value to the dictionary\n",
    "rating_dict[\"Harry Potter and the Deathly Hallows, Part 2\"] = \"8.1\"\n",
    "rating_dict"
   ]
  },
  {
   "cell_type": "code",
   "execution_count": 11,
   "id": "68da549f",
   "metadata": {},
   "outputs": [
    {
     "data": {
      "text/plain": [
       "{'Harry Potter and the Sorcerer’s Stone': '7.6',\n",
       " 'Harry Potter and the Chamber of Secrets': '7.4',\n",
       " 'Harry Potter and the Prisoner of Azkaban': '7.9',\n",
       " 'Harry Potter and the Goblet of Fire': '7.7',\n",
       " 'Harry Potter and the Order of the Phoenix': '7.5',\n",
       " 'Harry Potter and the Half-Blood Prince': '7.6',\n",
       " 'Harry Potter and the Deathly Hallows, Part 1': '7.7'}"
      ]
     },
     "execution_count": 11,
     "metadata": {},
     "output_type": "execute_result"
    }
   ],
   "source": [
    "# Now delete key and value\n",
    "del(rating_dict[\"Harry Potter and the Deathly Hallows, Part 2\"])\n",
    "rating_dict"
   ]
  },
  {
   "cell_type": "code",
   "execution_count": 12,
   "id": "a905e1f5",
   "metadata": {},
   "outputs": [
    {
     "data": {
      "text/plain": [
       "True"
      ]
     },
     "execution_count": 12,
     "metadata": {},
     "output_type": "execute_result"
    }
   ],
   "source": [
    "# Check if key is in the dictionary\n",
    "\"Harry Potter and the Goblet of Fire\" in rating_dict"
   ]
  },
  {
   "cell_type": "code",
   "execution_count": 13,
   "id": "2147586f",
   "metadata": {},
   "outputs": [
    {
     "data": {
      "text/plain": [
       "{'2001', '2002', '2004', '2005', '2007', '2009', '2010', '2011'}"
      ]
     },
     "execution_count": 13,
     "metadata": {},
     "output_type": "execute_result"
    }
   ],
   "source": [
    "# Set is a mutable collection of unique objects in Python\n",
    "my_set = {'2001', '2002', '2004', '2005', '2007', '2009', '2010', '2011', '2005', '2001'}\n",
    "my_set # Notice how Python removes duplicates"
   ]
  },
  {
   "cell_type": "code",
   "execution_count": 14,
   "id": "a6d7f0f6",
   "metadata": {},
   "outputs": [
    {
     "data": {
      "text/plain": [
       "{7.5,\n",
       " 'David Yates(Director)',\n",
       " 'Harry Potter and the Order of the Phoenix',\n",
       " 'J.K. Rowling(novel)',\n",
       " 'Michael Goldenberg (screenplay)'}"
      ]
     },
     "execution_count": 14,
     "metadata": {},
     "output_type": "execute_result"
    }
   ],
   "source": [
    "# List to set\n",
    "my_list = ['Harry Potter and the Order of the Phoenix', 7.5, 'David Yates (Director)', 'Michael Goldenberg (screenplay)', 'J.K. Rowling (novel)']\n",
    "my_list_set = set(my_list)\n",
    "my_list_set # Numbers are first in a set. Also, our set is arranged in alphabetical order"
   ]
  },
  {
   "cell_type": "code",
   "execution_count": 15,
   "id": "58ede0e1",
   "metadata": {},
   "outputs": [
    {
     "data": {
      "text/plain": [
       "{7.5,\n",
       " 'David Yates(Director)',\n",
       " 'Harry Potter and the Order of the Phoenix',\n",
       " 'J.K. Rowling(novel)',\n",
       " 'Michael Goldenberg (screenplay)',\n",
       " 'PG-13'}"
      ]
     },
     "execution_count": 15,
     "metadata": {},
     "output_type": "execute_result"
    }
   ],
   "source": [
    "# Add and remove methods\n",
    "my_list_set.add('PG-13')\n",
    "my_list_set"
   ]
  },
  {
   "cell_type": "code",
   "execution_count": 16,
   "id": "9a4b6fa3",
   "metadata": {},
   "outputs": [
    {
     "data": {
      "text/plain": [
       "{7.5,\n",
       " 'David Yates(Director)',\n",
       " 'Harry Potter and the Order of the Phoenix',\n",
       " 'J.K. Rowling(novel)',\n",
       " 'PG-13'}"
      ]
     },
     "execution_count": 16,
     "metadata": {},
     "output_type": "execute_result"
    }
   ],
   "source": [
    "my_list_set.remove('Michael Goldenberg (screenplay)')\n",
    "my_list_set"
   ]
  },
  {
   "cell_type": "code",
   "execution_count": 17,
   "id": "9e1dc6b8",
   "metadata": {},
   "outputs": [
    {
     "data": {
      "text/plain": [
       "True"
      ]
     },
     "execution_count": 17,
     "metadata": {},
     "output_type": "execute_result"
    }
   ],
   "source": [
    "# Is an element in a set?\n",
    "7.5 in my_list_set"
   ]
  },
  {
   "cell_type": "code",
   "execution_count": 19,
   "id": "7e3e0fbf",
   "metadata": {},
   "outputs": [
    {
     "data": {
      "text/plain": [
       "{'7.7'}"
      ]
     },
     "execution_count": 19,
     "metadata": {},
     "output_type": "execute_result"
    }
   ],
   "source": [
    "# The intersect of two sets\n",
    "movie_4 = {'Harry Potter and the Goblet of Fire', '7.7'}\n",
    "movie_7 = {'Harry Potter and the Deathly Hallows, Part 1', '7.7'}\n",
    "movie_intersect = movie_4 & movie_7\n",
    "movie_intersect"
   ]
  },
  {
   "cell_type": "code",
   "execution_count": 22,
   "id": "3e435cc6",
   "metadata": {},
   "outputs": [
    {
     "data": {
      "text/plain": [
       "{'Harry Potter and the Goblet of Fire'}"
      ]
     },
     "execution_count": 22,
     "metadata": {},
     "output_type": "execute_result"
    }
   ],
   "source": [
    "movie_4.difference(movie_7) # The difference in movie_4 but not movie_7"
   ]
  },
  {
   "cell_type": "code",
   "execution_count": 23,
   "id": "3a367ec2",
   "metadata": {},
   "outputs": [
    {
     "data": {
      "text/plain": [
       "{'7.7',\n",
       " 'Harry Potter and the Deathly Hallows, Part 1',\n",
       " 'Harry Potter and the Goblet of Fire'}"
      ]
     },
     "execution_count": 23,
     "metadata": {},
     "output_type": "execute_result"
    }
   ],
   "source": [
    "# Access all the elements in two sets\n",
    "movie_4.union(movie_7)"
   ]
  },
  {
   "cell_type": "code",
   "execution_count": null,
   "id": "8ab40388",
   "metadata": {},
   "outputs": [],
   "source": []
  }
 ],
 "metadata": {
  "kernelspec": {
   "display_name": "Python 3",
   "language": "python",
   "name": "python3"
  },
  "language_info": {
   "codemirror_mode": {
    "name": "ipython",
    "version": 3
   },
   "file_extension": ".py",
   "mimetype": "text/x-python",
   "name": "python",
   "nbconvert_exporter": "python",
   "pygments_lexer": "ipython3",
   "version": "3.8.8"
  }
 },
 "nbformat": 4,
 "nbformat_minor": 5
}
