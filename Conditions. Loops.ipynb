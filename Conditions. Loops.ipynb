{
 "cells": [
  {
   "cell_type": "code",
   "execution_count": 1,
   "id": "eb927234",
   "metadata": {},
   "outputs": [
    {
     "data": {
      "text/plain": [
       "False"
      ]
     },
     "execution_count": 1,
     "metadata": {},
     "output_type": "execute_result"
    }
   ],
   "source": [
    "# Comparison operations determine if the values are equal and return a Boolean\n",
    "variable = 13\n",
    "variable == 14"
   ]
  },
  {
   "cell_type": "code",
   "execution_count": 2,
   "id": "c5b70a93",
   "metadata": {},
   "outputs": [
    {
     "data": {
      "text/plain": [
       "True"
      ]
     },
     "execution_count": 2,
     "metadata": {},
     "output_type": "execute_result"
    }
   ],
   "source": [
    "# We can also compare strings\n",
    "'Fantastic Beasts and Where to Find Them' != 'Fantastic Beasts: The Crimes of Grindelwald'"
   ]
  },
  {
   "cell_type": "code",
   "execution_count": 4,
   "id": "edfbc70e",
   "metadata": {},
   "outputs": [
    {
     "name": "stdout",
     "output_type": "stream",
     "text": [
      "I want to watch this movie.\n",
      "Let's do it!\n"
     ]
    }
   ],
   "source": [
    "# If statement\n",
    "movie_rating = 7.3\n",
    "if movie_rating > 7:\n",
    "    print('I want to watch this movie.')\n",
    "print('Let\\'s do it!')"
   ]
  },
  {
   "cell_type": "code",
   "execution_count": 6,
   "id": "03219658",
   "metadata": {},
   "outputs": [
    {
     "name": "stdout",
     "output_type": "stream",
     "text": [
      "Let's choose something else.\n"
     ]
    }
   ],
   "source": [
    "# If else statement\n",
    "if movie_rating > 7.5:\n",
    "    print('I want to watch this movie.')\n",
    "else:\n",
    "    print('Let\\'s choose something else.')"
   ]
  },
  {
   "cell_type": "code",
   "execution_count": 8,
   "id": "9578bf72",
   "metadata": {},
   "outputs": [
    {
     "name": "stdout",
     "output_type": "stream",
     "text": [
      "I might watch this movie.\n"
     ]
    }
   ],
   "source": [
    "# Elif statement\n",
    "if movie_rating > 7.5:\n",
    "    print('I want to watch this movie.')\n",
    "elif movie_rating > 6 and movie_rating < 7.5:\n",
    "    print('I might watch this movie.')\n",
    "else:\n",
    "    print('I don\\'t want to watch this movie.')"
   ]
  },
  {
   "cell_type": "code",
   "execution_count": 13,
   "id": "a45e8133",
   "metadata": {},
   "outputs": [
    {
     "name": "stdout",
     "output_type": "stream",
     "text": [
      "I should probaby choose a different movie to watch.\n"
     ]
    }
   ],
   "source": [
    "# If not condition\n",
    "release_year = 2016\n",
    "if not (release_year >= 2020):\n",
    "    print('I should probaby choose a different movie to watch.')"
   ]
  },
  {
   "cell_type": "code",
   "execution_count": 14,
   "id": "33105eb2",
   "metadata": {},
   "outputs": [
    {
     "name": "stdout",
     "output_type": "stream",
     "text": [
      "7.3\n",
      "6.5\n"
     ]
    }
   ],
   "source": [
    "# Looping is useful when we wnat to repeat a given opeartion many times. \n",
    "# For loop is used to execute certain code a number of times\n",
    "# Let's print the ratings\n",
    "ratings = [7.3, 6.5]\n",
    "R = len(ratings)\n",
    "for i in range(R):\n",
    "    print(ratings[i])\n",
    "# It is helpful to think of i as index:\n",
    "# index 0 = 7.3, index 1 = 6.5"
   ]
  },
  {
   "cell_type": "code",
   "execution_count": 16,
   "id": "5291914b",
   "metadata": {},
   "outputs": [
    {
     "name": "stdout",
     "output_type": "stream",
     "text": [
      "7.3\n",
      "6.5\n"
     ]
    }
   ],
   "source": [
    "# We do not have to name it 'i'. I have named it 'rating' below\n",
    "for rating in ratings:\n",
    "    print (rating)"
   ]
  },
  {
   "cell_type": "code",
   "execution_count": 24,
   "id": "c7d6ff77",
   "metadata": {},
   "outputs": [
    {
     "name": "stdout",
     "output_type": "stream",
     "text": [
      "Now the movie with index 0 is awesome\n",
      "Now the movie with index 1 is awesome\n",
      "Now the movie with index 2 is awesome\n",
      "The movie with index 3 is still boring\n"
     ]
    }
   ],
   "source": [
    "# We can change elements in a list using For loop\n",
    "reviews = ['good', 'not bad', 'so-so', 'boring']\n",
    "for i in range(0, 3):\n",
    "    reviews[i] = 'awesome'\n",
    "    print('Now the movie with index', i, 'is', reviews[i])\n",
    "print('The movie with index', i+1, 'is still boring')"
   ]
  },
  {
   "cell_type": "code",
   "execution_count": 26,
   "id": "182d7ac8",
   "metadata": {},
   "outputs": [
    {
     "name": "stdout",
     "output_type": "stream",
     "text": [
      "0 feel-good\n",
      "1 awesome\n",
      "2 favorite\n",
      "3 famous\n",
      "4 legendary\n"
     ]
    }
   ],
   "source": [
    "# We can use enumerate function to get the count of the current iteration\n",
    "movies = ['feel-good', 'awesome', 'favorite', 'famous', 'legendary']\n",
    "for i, movie in enumerate(movies):\n",
    "    print(i, movie)"
   ]
  },
  {
   "cell_type": "code",
   "execution_count": 32,
   "id": "1be50afa",
   "metadata": {},
   "outputs": [
    {
     "name": "stdout",
     "output_type": "stream",
     "text": [
      "Please, enter the movie's rating from 0 to 10: 4\n",
      "Rating 4 is bad.\n"
     ]
    }
   ],
   "source": [
    "# If else statement with an input funtion\n",
    "r = int(input('Please, enter the movie\\'s rating from 0 to 10: '))\n",
    "# Casting to an integer is needed since we want to do numerical operations (>=)\n",
    "if r >= 6:\n",
    "    print('Rating {} is good.'.format(r))\n",
    "else:\n",
    "    print('Rating {} is bad.'.format(r))"
   ]
  },
  {
   "cell_type": "code",
   "execution_count": 34,
   "id": "59a9e2dc",
   "metadata": {},
   "outputs": [
    {
     "name": "stdout",
     "output_type": "stream",
     "text": [
      "1\n",
      "2\n",
      "3\n",
      "4\n",
      "5\n",
      "6\n",
      "7\n",
      "8\n",
      "9\n",
      "10\n"
     ]
    }
   ],
   "source": [
    "# While loop is used to execute a block of statements until a certain condition is met\n",
    "# As soon as the logical condition returns False, the block of code will stop being executed\n",
    "rating = 1\n",
    "while rating <= 10:\n",
    "    print(rating)\n",
    "    rating = rating + 1\n",
    "# While loop iterates through rating with an increment of 1 and stops at the rating 10"
   ]
  },
  {
   "cell_type": "code",
   "execution_count": 1,
   "id": "fe7e6852",
   "metadata": {},
   "outputs": [
    {
     "name": "stdout",
     "output_type": "stream",
     "text": [
      "5\n"
     ]
    }
   ],
   "source": [
    "# Let's develop a guessing game using While loop\n",
    "# The rating will be generated randomly\n",
    "# Then a person will insert any number from 0 to 10 tryng to guess the rating\n",
    "# The program shall be able to compare the randomly generated rating and the number that has been entered by the person\n",
    "# The program exits when the person guesses the rating generated by the system\n",
    "import random\n",
    "n = random.randint(0,10)\n",
    "print(n)"
   ]
  },
  {
   "cell_type": "code",
   "execution_count": 2,
   "id": "fbba8711",
   "metadata": {},
   "outputs": [
    {
     "name": "stdout",
     "output_type": "stream",
     "text": [
      "Please, enter the number from 0 to 10: 7\n"
     ]
    }
   ],
   "source": [
    "num = int(input('Please, enter the number from 0 to 10: '))"
   ]
  },
  {
   "cell_type": "code",
   "execution_count": 3,
   "id": "4b10645f",
   "metadata": {},
   "outputs": [
    {
     "name": "stdout",
     "output_type": "stream",
     "text": [
      "Your guess is high.\n",
      "Please, enter the number from 0 t0 10: 3\n",
      "Your guess is low.\n",
      "Please, enter the number from 0 t0 10: 5\n",
      "Your guess is right!\n"
     ]
    }
   ],
   "source": [
    "while True:\n",
    "    if num == n:\n",
    "        print('Your guess is right!')\n",
    "        break # Break statement stops the loop\n",
    "    elif num < n:\n",
    "        print('Your guess is low.')\n",
    "        num = int(input('Please, enter the number from 0 t0 10: '))\n",
    "    elif num > n:\n",
    "        print('Your guess is high.')\n",
    "        num = int(input('Please, enter the number from 0 t0 10: '))"
   ]
  },
  {
   "cell_type": "code",
   "execution_count": null,
   "id": "7e127444",
   "metadata": {},
   "outputs": [],
   "source": []
  }
 ],
 "metadata": {
  "kernelspec": {
   "display_name": "Python 3",
   "language": "python",
   "name": "python3"
  },
  "language_info": {
   "codemirror_mode": {
    "name": "ipython",
    "version": 3
   },
   "file_extension": ".py",
   "mimetype": "text/x-python",
   "name": "python",
   "nbconvert_exporter": "python",
   "pygments_lexer": "ipython3",
   "version": "3.8.8"
  }
 },
 "nbformat": 4,
 "nbformat_minor": 5
}
