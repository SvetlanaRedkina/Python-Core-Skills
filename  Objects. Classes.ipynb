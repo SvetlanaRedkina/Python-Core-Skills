{
 "cells": [
  {
   "cell_type": "code",
   "execution_count": 1,
   "id": "7714a6ef",
   "metadata": {},
   "outputs": [],
   "source": [
    "# Class is a prototype from which objects are created.\n",
    "# An instance of an object is the realization of a class.\n",
    "# For example, if we create a class Rectangle, a small purple rectangle will be an instance of the class"
   ]
  },
  {
   "cell_type": "code",
   "execution_count": 2,
   "id": "ab80e932",
   "metadata": {},
   "outputs": [],
   "source": [
    "# Let's create a class Rectangle first and then draw a rectangle\n",
    "# We need to import Matplotlib library in order to create visualizations\n",
    "import matplotlib.pyplot as plt\n",
    "%matplotlib inline # a magic function that renders figures in a notebook"
   ]
  },
  {
   "cell_type": "code",
   "execution_count": 16,
   "id": "c656361b",
   "metadata": {},
   "outputs": [],
   "source": [
    "# The Rectangle class has 3 attributes: height, width, and color\n",
    "class Rectangle(object):\n",
    "    def __init__(self, width = 3, height = 4, color = 'r'):\n",
    "        self.width = width\n",
    "        self.height = height\n",
    "        self.color = color\n",
    "        \n",
    "    def drawRectangle(self): # to draw a rectangle\n",
    "        plt.gca().add_patch(plt.Rectangle((0, 0), self.width, self.height, fc = self.color))\n",
    "        plt.axis('scaled')\n",
    "        plt.show()"
   ]
  },
  {
   "cell_type": "code",
   "execution_count": 17,
   "id": "e2bcec3e",
   "metadata": {},
   "outputs": [],
   "source": [
    "# Let's create the object of the class Rectangle\n",
    "GreenRectangle = Rectangle(2, 3, 'green')"
   ]
  },
  {
   "cell_type": "code",
   "execution_count": 5,
   "id": "69beb2ae",
   "metadata": {},
   "outputs": [
    {
     "data": {
      "text/plain": [
       "3"
      ]
     },
     "execution_count": 5,
     "metadata": {},
     "output_type": "execute_result"
    }
   ],
   "source": [
    "# Access the attributes of the instance of the class\n",
    "GreenRectangle.height"
   ]
  },
  {
   "cell_type": "code",
   "execution_count": 6,
   "id": "7d911c0f",
   "metadata": {},
   "outputs": [
    {
     "data": {
      "text/plain": [
       "2"
      ]
     },
     "execution_count": 6,
     "metadata": {},
     "output_type": "execute_result"
    }
   ],
   "source": [
    "GreenRectangle.width"
   ]
  },
  {
   "cell_type": "code",
   "execution_count": 7,
   "id": "7a0c2966",
   "metadata": {},
   "outputs": [
    {
     "data": {
      "text/plain": [
       "'green'"
      ]
     },
     "execution_count": 7,
     "metadata": {},
     "output_type": "execute_result"
    }
   ],
   "source": [
    "GreenRectangle.color"
   ]
  },
  {
   "cell_type": "code",
   "execution_count": 8,
   "id": "7bf205cb",
   "metadata": {},
   "outputs": [
    {
     "data": {
      "image/png": "[encoded data removed]",
      "text/plain": [
       "<Figure size 432x288 with 1 Axes>"
      ]
     },
     "metadata": {
      "needs_background": "light"
     },
     "output_type": "display_data"
    }
   ],
   "source": [
    "# Draw GreenRectangle\n",
    "GreenRectangle.drawRectangle()"
   ]
  },
  {
   "cell_type": "code",
   "execution_count": 18,
   "id": "f24b784b",
   "metadata": {},
   "outputs": [],
   "source": [
    "# If we want to draw a square using Matplotlb, we should recognize that square is a special type of the class Rectangle\n",
    "# Let's create another object of the class Rectangle and name it 'BlueSquare' with width set equal to height\n",
    "BlueSquare = Rectangle(4, 4, 'blue')"
   ]
  },
  {
   "cell_type": "code",
   "execution_count": 19,
   "id": "66d45a28",
   "metadata": {},
   "outputs": [
    {
     "data": {
      "text/plain": [
       "'blue'"
      ]
     },
     "execution_count": 19,
     "metadata": {},
     "output_type": "execute_result"
    }
   ],
   "source": [
    "# We can access the attributes of the class Rectangle for BlueSquare, for example, color\n",
    "BlueSquare.color"
   ]
  },
  {
   "cell_type": "code",
   "execution_count": 20,
   "id": "a20bffc3",
   "metadata": {},
   "outputs": [
    {
     "data": {
      "image/png": "[encoded data removed]",
      "text/plain": [
       "<Figure size 432x288 with 1 Axes>"
      ]
     },
     "metadata": {
      "needs_background": "light"
     },
     "output_type": "display_data"
    }
   ],
   "source": [
    "# Draw BlueSquare\n",
    "BlueSquare.drawRectangle()"
   ]
  }
 ],
 "metadata": {
  "kernelspec": {
   "display_name": "Python 3",
   "language": "python",
   "name": "python3"
  },
  "language_info": {
   "codemirror_mode": {
    "name": "ipython",
    "version": 3
   },
   "file_extension": ".py",
   "mimetype": "text/x-python",
   "name": "python",
   "nbconvert_exporter": "python",
   "pygments_lexer": "ipython3",
   "version": "3.8.8"
  }
 },
 "nbformat": 4,
 "nbformat_minor": 5
}
